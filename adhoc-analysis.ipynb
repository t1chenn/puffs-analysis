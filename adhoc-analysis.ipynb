{
 "cells": [
  {
   "cell_type": "code",
   "execution_count": 1,
   "metadata": {},
   "outputs": [],
   "source": [
    "import numpy as np\n",
    "import pandas as pd\n",
    "import progressbar\n",
    "import os\n",
    "from mat2py import mat2py\n",
    "\n",
    "from sklearn.ensemble import RandomForestClassifier\n",
    "from sklearn.externals import joblib\n",
    "from sklearn.linear_model import LogisticRegression\n",
    "\n",
    "import matplotlib.pyplot as plt\n",
    "\n",
    "%matplotlib inline"
   ]
  },
  {
   "cell_type": "code",
   "execution_count": 90,
   "metadata": {},
   "outputs": [],
   "source": [
    "# This function imports processedtracks.mat files from a specified directory\n",
    "\n",
    "def load_processed_condition(condition_dir, fields, tracking_file = 'ProcessedTracks.mat'):\n",
    "    \n",
    "    bar = progressbar.ProgressBar()\n",
    "    \n",
    "    files_to_load = []\n",
    "    for root, subfolders, files in os.walk(condition_dir):\n",
    "        if tracking_file in files:\n",
    "            files_to_load.append([root, tracking_file])\n",
    "    \n",
    "    data_list = {}\n",
    "    bar = progressbar.ProgressBar()\n",
    "    for file in bar(files_to_load):\n",
    "#         if os.path.isfile(os.path.join(file[0], \"ProcessedTracks.npy\")):\n",
    "#             data = np.load(os.path.join(file[0], \"ProcessedTracks.npy\"))\n",
    "#         else:\n",
    "        file_to_open = os.path.join(file[0], file[1])\n",
    "        data = mat2py(file_to_open, fields, file[0], 'tracks')\n",
    "        \n",
    "        data = pd.DataFrame(np.nan_to_num(np.array(data.tolist())),\n",
    "                            columns = fields)\n",
    "        data.index = np.arange(1, len(data)+1)\n",
    "        data_list[file[0].split(\"/\")[-3]] = data\n",
    "        \n",
    "    data = pd.concat(data_list.values(), keys=data_list.keys(), names=['cell', 'track'])\n",
    "    return data.reset_index()"
   ]
  },
  {
   "cell_type": "code",
   "execution_count": 91,
   "metadata": {},
   "outputs": [],
   "source": [
    "# The loading fields\n",
    "\n",
    "fields = ['isPuff', 'hpeaks', 'php', 'cdiff', 'pfallR2', 'pvp', 'pallAcdiff', 'npeaks', 'tnpeaks', 'lifetime_s', \n",
    "          'percentC','MotionAnalysis', 'deltaf', 'SNR', 'tau', 'ttp', 'RSSm', 'global_background', 'plateau', \n",
    "          'int_density', 'nSeg', 'isPSFm', 'mask_Arm', 'maskNm', 'pval_Arm', 'maxAc']"
   ]
  },
  {
   "cell_type": "code",
   "execution_count": 36,
   "metadata": {},
   "outputs": [
    {
     "name": "stderr",
     "output_type": "stream",
     "text": [
      "100% (15 of 15) |########################| Elapsed Time: 0:17:00 Time:  0:17:00\n",
      "100% (15 of 15) |########################| Elapsed Time: 0:09:15 Time:  0:09:15\n",
      "100% (28 of 28) |########################| Elapsed Time: 0:27:11 Time:  0:27:11\n",
      "100% (28 of 28) |########################| Elapsed Time: 1:13:07 Time:  1:13:07\n"
     ]
    }
   ],
   "source": [
    "# Load data\n",
    "\n",
    "NW_5min = load_processed_condition('/Users/chenhao/Downloads/Fields/NW_Iso', fields)\n",
    "NW_10min = load_processed_condition('/Users/chenhao/Downloads/Fields/NW_LatA', fields)\n",
    "W_5min = load_processed_condition('/Users/chenhao/Downloads/Fields/W_Iso', fields)\n",
    "W_10min = load_processed_condition('/Users/chenhao/Downloads/Fields/W_LatA', fields)"
   ]
  },
  {
   "cell_type": "code",
   "execution_count": 78,
   "metadata": {},
   "outputs": [],
   "source": [
    "# Organize data in appropriate labels and save to .csv\n",
    "\n",
    "new_data = pd.concat([NW_5min, NW_10min, W_5min, W_10min], keys=['NW_5min', 'NW_10min', 'W_5min', 'W_10min'], names=['condition'])\n",
    "new_data = new_data.reset_index().drop('level_1',1)\n",
    "\n",
    "for condition in ['NW_5min', 'NW_10min', 'W_5min', 'W_10min']:\n",
    "    pieces = condition.split('_')\n",
    "    treatment = pieces[0]\n",
    "    timepoint = pieces[1]\n",
    "    new_data.loc[new_data['condition'] == condition, 'treatment'] = treatment\n",
    "    new_data.loc[new_data['condition'] == condition, 'timepoint'] = timepoint\n",
    "    \n",
    "new_data[['treatment', 'timepoint', 'cell', 'track'] + fields].to_csv('latB.csv')"
   ]
  },
  {
   "cell_type": "code",
   "execution_count": 2,
   "metadata": {},
   "outputs": [],
   "source": [
    "data = pd.read_csv('latB.csv')\n",
    "data = data.drop ('Unnamed: 0',1)"
   ]
  },
  {
   "cell_type": "code",
   "execution_count": 3,
   "metadata": {},
   "outputs": [],
   "source": [
    "training_fields = ['hpeaks', 'php', 'cdiff', 'pfallR2', 'pvp', 'pallAcdiff', 'npeaks', 'tnpeaks', 'lifetime_s', \n",
    "          'percentC','MotionAnalysis', 'deltaf', 'SNR', 'tau', 'ttp', 'RSSm', 'global_background', 'plateau', \n",
    "          'int_density', 'nSeg', 'isPSFm', 'mask_Arm', 'maskNm', 'pval_Arm', 'maxAc']"
   ]
  },
  {
   "cell_type": "code",
   "execution_count": 4,
   "metadata": {},
   "outputs": [
    {
     "data": {
      "text/plain": [
       "RandomForestClassifier(bootstrap=True, class_weight='balanced',\n",
       "            criterion='gini', max_depth=None, max_features='auto',\n",
       "            max_leaf_nodes=None, min_impurity_decrease=0.0,\n",
       "            min_impurity_split=None, min_samples_leaf=1,\n",
       "            min_samples_split=2, min_weight_fraction_leaf=0.0,\n",
       "            n_estimators=2000, n_jobs=1, oob_score=True, random_state=237,\n",
       "            verbose=0, warm_start=False)"
      ]
     },
     "execution_count": 4,
     "metadata": {},
     "output_type": "execute_result"
    }
   ],
   "source": [
    "# Train classifier\n",
    "\n",
    "labeled = pd.read_csv('rr_sane.csv')\n",
    "labeled = labeled.drop ('Unnamed: 0',1)\n",
    "\n",
    "classifier = RandomForestClassifier(\n",
    "        n_estimators = 2000, \n",
    "        oob_score = True, \n",
    "        class_weight=\"balanced\", \n",
    "        random_state=237,\n",
    "        n_jobs=1)\n",
    "\n",
    "classifier.fit(labeled[training_fields], labeled['isPuff'])"
   ]
  },
  {
   "cell_type": "code",
   "execution_count": 40,
   "metadata": {},
   "outputs": [],
   "source": [
    "# Use classifier to process organized tracks and output predictions\n",
    "\n",
    "for treatment in np.unique(data['treatment']):\n",
    "    for timepoint in np.unique(data.loc[data['treatment'] == treatment, 'timepoint']):\n",
    "        for cell in np.unique(data.loc[(data['treatment'] == treatment) & (data['timepoint'] == timepoint), 'cell']):\n",
    "            \n",
    "            cell_filter = ((data['treatment'] == treatment) & (data['timepoint'] == timepoint) & (data['cell'] == cell))\n",
    "            \n",
    "            test_probas = classifier.predict_proba(data.loc[(data['treatment'] == treatment) \n",
    "                                                & (data['timepoint'] == timepoint) \n",
    "                                                & (data['cell'] == cell), training_fields])[:,0]\n",
    "            \n",
    "            logic_arr = np.array(test_probas >= 0.9)\n",
    "            data.loc[cell_filter, 'logic'] = logic_arr        \n",
    "            ispuff_arr = np.nonzero(logic_arr)            \n",
    "            data.loc[cell_filter, 'proba'] = test_probas\n",
    "            \n",
    "#            print (len(np.array(ispuff_arr)[0]))\n",
    "#            if len(np.array(ispuff_arr)[0]) > 0:\n",
    "#                print (treatment, timepoint, cell, ispuff_arr)\n",
    "#            if len(np.array(ispuff_arr)[0]) == 0:\n",
    "#                print (treatment, timepoint, cell, '0')"
   ]
  },
  {
   "cell_type": "code",
   "execution_count": 41,
   "metadata": {},
   "outputs": [],
   "source": [
    "#data"
   ]
  },
  {
   "cell_type": "code",
   "execution_count": 42,
   "metadata": {},
   "outputs": [],
   "source": [
    "thresholded = data.groupby(['treatment', 'cell', 'timepoint'])['logic'].sum()\n",
    "thresholded.to_csv('thresholded_0.9.csv')"
   ]
  },
  {
   "cell_type": "code",
   "execution_count": 8,
   "metadata": {},
   "outputs": [
    {
     "name": "stderr",
     "output_type": "stream",
     "text": [
      "/Library/Frameworks/Python.framework/Versions/3.7/lib/python3.7/site-packages/scipy/stats/stats.py:1713: FutureWarning: Using a non-tuple sequence for multidimensional indexing is deprecated; use `arr[tuple(seq)]` instead of `arr[seq]`. In the future this will be interpreted as an array index, `arr[np.array(seq)]`, which will result either in an error or a different result.\n",
      "  return np.add.reduce(sorted[indexer] * weights, axis=axis) / sumval\n"
     ]
    },
    {
     "data": {
      "image/png": "[encoded data removed]",
      "text/plain": [
       "<Figure size 432x288 with 2 Axes>"
      ]
     },
     "metadata": {
      "needs_background": "light"
     },
     "output_type": "display_data"
    }
   ],
   "source": [
    "import seaborn as sns\n",
    "\n",
    "ispuff_count_NW = pd.DataFrame(data.loc[data['treatment'] == 'NW', :].groupby(['timepoint','cell'])['logic'].sum() / \n",
    "                              data.loc[(data['treatment'] == 'NW') & (data['timepoint'] == '5min'), :].groupby(['cell'])['logic'].sum()).reset_index()\n",
    "ispuff_count_W = pd.DataFrame(data.loc[data['treatment'] == 'W', :].groupby(['timepoint','cell'])['logic'].sum() / \n",
    "                              data.loc[(data['treatment'] == 'W') & (data['timepoint'] == '5min'), :].groupby(['cell'])['logic'].sum()).reset_index()\n",
    "\n",
    "fig, axs = plt.subplots(1,2, sharey=True)\n",
    "sns.set_palette(['grey', sns.xkcd_rgb['sky blue']])\n",
    "sns.barplot(data = ispuff_count_NW, \n",
    "                 x = 'timepoint', \n",
    "                 y = 'logic',\n",
    "                 ci = 95,\n",
    "                 order = ['5min', '10min'],\n",
    "                 ax = axs[0])\n",
    "axs[0].set_ylabel('% Puff Events')\n",
    "axs[0].set_xticklabels(['NW@5min', 'NW@10min'])\n",
    "axs[0].set_xlabel('')\n",
    "\n",
    "sns.barplot(data = ispuff_count_W, \n",
    "                 x = 'timepoint', \n",
    "                 y = 'logic',\n",
    "                 ci = 95,\n",
    "                 order = ['5min', '10min'],\n",
    "                 ax= axs[1])\n",
    "axs[1].set_ylabel('')\n",
    "axs[1].set_xticklabels(['W@5min', 'W@10min'])\n",
    "axs[1].set_xlabel('')\n",
    "plt.show()"
   ]
  },
  {
   "cell_type": "code",
   "execution_count": 8,
   "metadata": {},
   "outputs": [
    {
     "data": {
      "text/plain": [
       "treatment  cell            timepoint\n",
       "NW         Field1.2_0.1s   5min          32.5225\n",
       "           Field1.4_0.1s   10min         42.8135\n",
       "           Field10.2_0.1s  5min           7.6460\n",
       "           Field10.4_0.1s  10min          2.5985\n",
       "           Field11.2_0.1s  5min          24.6670\n",
       "           Field11.4_0.1s  10min          3.2600\n",
       "           Field12.2_0.1s  5min          38.2640\n",
       "           Field12.4_0.1s  10min          6.7320\n",
       "           Field13.2_0.1s  5min          16.9195\n",
       "           Field13.4_0.1s  10min         10.7625\n",
       "           Field14.2_0.1s  5min           4.3245\n",
       "           Field14.4_0.1s  10min          4.7655\n",
       "           Field15.2_0.1s  5min           8.7550\n",
       "           Field15.4_0.1s  10min          3.0680\n",
       "           Field2.2_0.1s   5min          26.9025\n",
       "           Field2.4_0.1s   10min          8.4855\n",
       "           Field3.2_0.1s   5min          15.5485\n",
       "           Field3.4_0.1s   10min         12.3325\n",
       "           Field4.2_0.1s   5min          21.5070\n",
       "           Field4.4_0.1s   10min         11.9460\n",
       "           Field5.2_0.1s   5min          34.4080\n",
       "           Field5.4_0.1s   10min         13.2335\n",
       "           Field6.2_0.1s   5min          23.3520\n",
       "           Field6.4_0.1s   10min          5.5865\n",
       "           Field7.2_0.1s   5min          15.5805\n",
       "           Field7.4_0.1s   10min          4.7100\n",
       "           Field8.2_0.1s   5min          16.4600\n",
       "           Field8.4_0.1s   10min         17.0205\n",
       "           Field9.2_0.1s   5min          22.4695\n",
       "           Field9.4_0.1s   10min          5.4645\n",
       "                                          ...   \n",
       "W          Field29.2_0.1s  5min          33.1680\n",
       "           Field29.4_0.1s  10min         15.5770\n",
       "           Field30.2_0.1s  5min          25.0525\n",
       "           Field30.4_0.1s  10min          7.4635\n",
       "           Field31.2_0.1s  5min          18.1415\n",
       "           Field31.4_0.1s  10min          9.8275\n",
       "           Field32.2_0.1s  5min          16.4445\n",
       "           Field32.4_0.1s  10min          7.7165\n",
       "           Field33.2_0.1s  5min          16.0555\n",
       "           Field33.4_0.1s  10min          3.1720\n",
       "           Field34.2_0.1s  5min         160.6620\n",
       "           Field34.4_0.1s  10min         73.6300\n",
       "           Field35.2_0.1s  5min          59.1810\n",
       "           Field35.4_0.1s  10min         22.7325\n",
       "           Field36.2_0.1s  5min          20.4960\n",
       "           Field36.4_0.1s  10min          7.1080\n",
       "           Field37.2_0.1s  5min          21.5960\n",
       "           Field37.4_0.1s  10min          8.4470\n",
       "           Field38.2_0.1s  5min          47.7785\n",
       "           Field38.4_0.1s  10min         21.5740\n",
       "           Field39.2_0.1s  5min          32.6840\n",
       "           Field39.4_0.1s  10min          9.4930\n",
       "           Field40.2_0.1s  5min          15.6175\n",
       "           Field40.4_0.1s  10min         11.4325\n",
       "           Field41.2_0.1s  5min          19.1290\n",
       "           Field41.4_0.1s  10min         18.9625\n",
       "           Field42.2_0.1s  5min          50.6365\n",
       "           Field42.4_0.1s  10min         19.3115\n",
       "           Field43.2_0.1s  5min          23.0485\n",
       "           Field43.4_0.1s  10min          6.9020\n",
       "Name: proba, Length: 86, dtype: float64"
      ]
     },
     "execution_count": 8,
     "metadata": {},
     "output_type": "execute_result"
    }
   ],
   "source": [
    "data.groupby(['treatment', 'cell', 'timepoint'])['proba'].sum()"
   ]
  },
  {
   "cell_type": "code",
   "execution_count": 9,
   "metadata": {},
   "outputs": [
    {
     "name": "stderr",
     "output_type": "stream",
     "text": [
      "/Library/Frameworks/Python.framework/Versions/3.7/lib/python3.7/site-packages/scipy/stats/stats.py:1713: FutureWarning: Using a non-tuple sequence for multidimensional indexing is deprecated; use `arr[tuple(seq)]` instead of `arr[seq]`. In the future this will be interpreted as an array index, `arr[np.array(seq)]`, which will result either in an error or a different result.\n",
      "  return np.add.reduce(sorted[indexer] * weights, axis=axis) / sumval\n"
     ]
    },
    {
     "data": {
      "image/png": "[encoded data removed]",
      "text/plain": [
       "<Figure size 432x288 with 2 Axes>"
      ]
     },
     "metadata": {
      "needs_background": "light"
     },
     "output_type": "display_data"
    }
   ],
   "source": [
    "sum_probas_NW = pd.DataFrame(data.loc[data['treatment'] == 'NW', :].groupby(['timepoint', 'cell'])['proba'].sum()).reset_index()\n",
    "sum_probas_W = pd.DataFrame(data.loc[data['treatment'] == 'W', :].groupby(['timepoint', 'cell'])['proba'].sum()).reset_index()\n",
    "\n",
    "fig, axs = plt.subplots(1,2, sharey=True)\n",
    "sns.set_palette(['black', sns.xkcd_rgb['pale red']])\n",
    "sns.barplot(data = sum_probas_NW, \n",
    "                 x = 'timepoint', \n",
    "                 y = 'proba',\n",
    "                 ci = 95,\n",
    "                 order = ['5min', '10min'],\n",
    "                 ax = axs[0])\n",
    "axs[0].set_ylabel('Sum of Probas')\n",
    "axs[0].set_xticklabels(['NW@5min', 'NW@10min'])\n",
    "axs[0].set_xlabel('')\n",
    "\n",
    "sns.barplot(data = sum_probas_W, \n",
    "                 x = 'timepoint', \n",
    "                 y = 'proba',\n",
    "                 ci = 95,\n",
    "                 order = ['5min', '10min'],\n",
    "                 ax= axs[1])\n",
    "axs[1].set_ylabel('')\n",
    "axs[1].set_xticklabels(['W@5min', 'W@10min'])\n",
    "axs[1].set_xlabel('')\n",
    "#ax.text(0.4, -200, 'NW')\n",
    "#ax.text(2.4, -200, 'W')\n",
    "#line = plt.Line2D([0.5, 0.5], [-0.005, -0.15], color='black', transform=ax.transAxes)\n",
    "#line.set_clip_on(False)\n",
    "#ax.add_line(line)\n",
    "plt.tight_layout()\n",
    "plt.show()"
   ]
  },
  {
   "cell_type": "code",
   "execution_count": 10,
   "metadata": {},
   "outputs": [
    {
     "data": {
      "text/plain": [
       "RandomForestClassifier(bootstrap=True, class_weight='balanced',\n",
       "            criterion='gini', max_depth=None, max_features='auto',\n",
       "            max_leaf_nodes=None, min_impurity_decrease=0.0,\n",
       "            min_impurity_split=None, min_samples_leaf=1,\n",
       "            min_samples_split=2, min_weight_fraction_leaf=0.0,\n",
       "            n_estimators=2000, n_jobs=1, oob_score=True, random_state=237,\n",
       "            verbose=0, warm_start=False)"
      ]
     },
     "execution_count": 10,
     "metadata": {},
     "output_type": "execute_result"
    }
   ],
   "source": [
    "# Re-train classifier with MOR data only\n",
    "\n",
    "labeled_M = labeled.loc[labeled['cargo'] == 'MOR', :]\n",
    "\n",
    "classifier_M = RandomForestClassifier(\n",
    "        n_estimators = 2000, \n",
    "        oob_score = True, \n",
    "        class_weight=\"balanced\", \n",
    "        random_state=237,\n",
    "        n_jobs=1)\n",
    "\n",
    "classifier_M.fit(labeled_M[training_fields], labeled_M['isPuff'])"
   ]
  },
  {
   "cell_type": "code",
   "execution_count": 47,
   "metadata": {},
   "outputs": [
    {
     "data": {
      "text/plain": [
       "LogisticRegression(C=1000000, class_weight=None, dual=False,\n",
       "          fit_intercept=True, intercept_scaling=1, max_iter=100,\n",
       "          multi_class='warn', n_jobs=None, penalty='l2', random_state=237,\n",
       "          solver='lbfgs', tol=0.0001, verbose=0, warm_start=False)"
      ]
     },
     "execution_count": 47,
     "metadata": {},
     "output_type": "execute_result"
    }
   ],
   "source": [
    "# Set up calibration for the MOR trained data\n",
    "\n",
    "calibrater = LogisticRegression(C = 1000000, random_state=237, solver = 'lbfgs')\n",
    "train_puff_probs = classifier_M.oob_decision_function_[:,0]\n",
    "train_puff_labeled = labeled_M['isPuff']\n",
    "calibrater.fit(train_puff_probs.reshape(-1, 1), train_puff_labeled)"
   ]
  },
  {
   "cell_type": "code",
   "execution_count": null,
   "metadata": {},
   "outputs": [],
   "source": [
    "# Organize the new predictions and save to the dataset\n",
    "\n",
    "for treatment in np.unique(data['treatment']):\n",
    "    for timepoint in np.unique(data.loc[data['treatment'] == treatment, 'timepoint']):\n",
    "        for cell in np.unique(data.loc[(data['treatment'] == treatment) & (data['timepoint'] == timepoint), 'cell']):\n",
    "            \n",
    "            cell_filter = ((data['treatment'] == treatment) & (data['timepoint'] == timepoint) & (data['cell'] == cell))\n",
    "            \n",
    "            test_probas_M = classifier_M.predict_proba(data.loc[(data['treatment'] == treatment) \n",
    "                                                & (data['timepoint'] == timepoint) \n",
    "                                                & (data['cell'] == cell), training_fields])[:,0]\n",
    "            calibrated_probas_M = calibrater.predict_proba(test_probas_M.reshape(-1, 1))[:,0]\n",
    "            logic_arr_M = np.array(test_probas_M >= 0.5)\n",
    "            logic_arr_calibrated = np.array(calibrated_probas_M >= 0.5)\n",
    "\n",
    "            data.loc[cell_filter, 'proba_M'] = test_probas_M\n",
    "            data.loc[cell_filter, 'logic_M'] = logic_arr_M\n",
    "            data.loc[cell_filter, 'calibrated_M'] = calibrated_probas_M\n",
    "            data.loc[cell_filter, 'logic_calibrated'] = logic_arr_calibrated"
   ]
  },
  {
   "cell_type": "code",
   "execution_count": 46,
   "metadata": {},
   "outputs": [
    {
     "data": {
      "text/plain": [
       "treatment  cell            timepoint\n",
       "NW         Field1.2_0.1s   5min         29.624550\n",
       "           Field1.4_0.1s   10min        35.079573\n",
       "           Field10.2_0.1s  5min          4.383887\n",
       "           Field10.4_0.1s  10min         3.007056\n",
       "           Field11.2_0.1s  5min          8.550029\n",
       "           Field11.4_0.1s  10min         4.543874\n",
       "           Field12.2_0.1s  5min         21.402891\n",
       "           Field12.4_0.1s  10min        13.237502\n",
       "           Field13.2_0.1s  5min          9.396102\n",
       "           Field13.4_0.1s  10min         8.063756\n",
       "           Field14.2_0.1s  5min          2.151579\n",
       "           Field14.4_0.1s  10min         4.490285\n",
       "           Field15.2_0.1s  5min          7.456202\n",
       "           Field15.4_0.1s  10min         4.450252\n",
       "           Field2.2_0.1s   5min         17.820188\n",
       "           Field2.4_0.1s   10min         7.289464\n",
       "           Field3.2_0.1s   5min         15.069568\n",
       "           Field3.4_0.1s   10min        12.988776\n",
       "           Field4.2_0.1s   5min         10.792016\n",
       "           Field4.4_0.1s   10min         9.552479\n",
       "           Field5.2_0.1s   5min         29.311891\n",
       "           Field5.4_0.1s   10min        13.552400\n",
       "           Field6.2_0.1s   5min         20.062116\n",
       "           Field6.4_0.1s   10min         6.599368\n",
       "           Field7.2_0.1s   5min         14.801635\n",
       "           Field7.4_0.1s   10min         6.657448\n",
       "           Field8.2_0.1s   5min          6.158750\n",
       "           Field8.4_0.1s   10min         5.470237\n",
       "           Field9.2_0.1s   5min         22.281841\n",
       "           Field9.4_0.1s   10min         8.940247\n",
       "                                          ...    \n",
       "W          Field29.2_0.1s  5min         15.781250\n",
       "           Field29.4_0.1s  10min         4.369754\n",
       "           Field30.2_0.1s  5min          8.829314\n",
       "           Field30.4_0.1s  10min         1.964894\n",
       "           Field31.2_0.1s  5min          5.891905\n",
       "           Field31.4_0.1s  10min         2.462675\n",
       "           Field32.2_0.1s  5min          2.139546\n",
       "           Field32.4_0.1s  10min         1.235269\n",
       "           Field33.2_0.1s  5min          7.756507\n",
       "           Field33.4_0.1s  10min         4.361675\n",
       "           Field34.2_0.1s  5min         25.169160\n",
       "           Field34.4_0.1s  10min        15.131357\n",
       "           Field35.2_0.1s  5min         11.142562\n",
       "           Field35.4_0.1s  10min         4.835630\n",
       "           Field36.2_0.1s  5min         11.310668\n",
       "           Field36.4_0.1s  10min         4.692312\n",
       "           Field37.2_0.1s  5min         14.421081\n",
       "           Field37.4_0.1s  10min         4.282829\n",
       "           Field38.2_0.1s  5min         29.952849\n",
       "           Field38.4_0.1s  10min        15.862692\n",
       "           Field39.2_0.1s  5min         20.453036\n",
       "           Field39.4_0.1s  10min         6.514175\n",
       "           Field40.2_0.1s  5min          7.601719\n",
       "           Field40.4_0.1s  10min         8.116259\n",
       "           Field41.2_0.1s  5min          4.006502\n",
       "           Field41.4_0.1s  10min         3.392643\n",
       "           Field42.2_0.1s  5min         15.900738\n",
       "           Field42.4_0.1s  10min        11.929499\n",
       "           Field43.2_0.1s  5min          6.566699\n",
       "           Field43.4_0.1s  10min         5.773636\n",
       "Name: calibrated_M, Length: 86, dtype: float64"
      ]
     },
     "execution_count": 46,
     "metadata": {},
     "output_type": "execute_result"
    }
   ],
   "source": [
    "data.groupby(['treatment', 'cell', 'timepoint'])['calibrated_M'].sum()"
   ]
  },
  {
   "cell_type": "code",
   "execution_count": 12,
   "metadata": {},
   "outputs": [
    {
     "name": "stderr",
     "output_type": "stream",
     "text": [
      "/Library/Frameworks/Python.framework/Versions/3.7/lib/python3.7/site-packages/scipy/stats/stats.py:1713: FutureWarning: Using a non-tuple sequence for multidimensional indexing is deprecated; use `arr[tuple(seq)]` instead of `arr[seq]`. In the future this will be interpreted as an array index, `arr[np.array(seq)]`, which will result either in an error or a different result.\n",
      "  return np.add.reduce(sorted[indexer] * weights, axis=axis) / sumval\n"
     ]
    },
    {
     "data": {
      "image/png": "[encoded data removed]",
      "text/plain": [
       "<Figure size 720x432 with 4 Axes>"
      ]
     },
     "metadata": {
      "needs_background": "light"
     },
     "output_type": "display_data"
    }
   ],
   "source": [
    "# \"Sum of probas\" of each treatment and timepoint, both classifiers. Non-normalized.\n",
    "\n",
    "sum_NW_M = pd.DataFrame(data.loc[data['treatment'] == 'NW', :].groupby(['timepoint', 'cell'])['proba_M'].sum()).reset_index()\n",
    "sum_W_M = pd.DataFrame(data.loc[data['treatment'] == 'W', :].groupby(['timepoint', 'cell'])['proba_M'].sum()).reset_index()\n",
    "\n",
    "fig, axs = plt.subplots(1,4, sharey=True)\n",
    "sns.set_palette(['black', sns.xkcd_rgb['pale red']])\n",
    "\n",
    "sns.barplot(data = sum_probas_NW, \n",
    "                 x = 'timepoint', \n",
    "                 y = 'proba',\n",
    "                 ci = 95,\n",
    "                 order = ['5min', '10min'],\n",
    "                 ax = axs[0])\n",
    "axs[0].set_ylabel('Sum of Probas')\n",
    "axs[0].set_xticklabels(['NW@5min', 'NW@10min'])\n",
    "axs[0].set_xlabel('')\n",
    "\n",
    "sns.barplot(data = sum_NW_M, \n",
    "                 x = 'timepoint', \n",
    "                 y = 'proba_M',\n",
    "                 ci = 95,\n",
    "                 order = ['5min', '10min'],\n",
    "                 ax= axs[1])\n",
    "axs[1].set_ylabel('')\n",
    "axs[1].set_xticklabels(['NW_M@5min', 'NW_M@10min'])\n",
    "axs[1].set_xlabel('')\n",
    "\n",
    "sns.barplot(data = sum_probas_W, \n",
    "                 x = 'timepoint', \n",
    "                 y = 'proba',\n",
    "                 ci = 95,\n",
    "                 order = ['5min', '10min'],\n",
    "                 ax = axs[2])\n",
    "axs[2].set_ylabel('')\n",
    "axs[2].set_xticklabels(['W@5min', 'W@10min'])\n",
    "axs[2].set_xlabel('')\n",
    "\n",
    "sns.barplot(data = sum_W_M, \n",
    "                 x = 'timepoint', \n",
    "                 y = 'proba_M',\n",
    "                 ci = 95,\n",
    "                 order = ['5min', '10min'],\n",
    "                 ax= axs[3])\n",
    "axs[3].set_ylabel('')\n",
    "axs[3].set_xticklabels(['W_M@5min', 'W_M@10min'])\n",
    "axs[3].set_xlabel('')\n",
    "\n",
    "fig.set_size_inches(10, 6)\n",
    "plt.tight_layout()\n",
    "plt.show()"
   ]
  },
  {
   "cell_type": "code",
   "execution_count": 13,
   "metadata": {},
   "outputs": [
    {
     "data": {
      "image/png": "[encoded data removed]",
      "text/plain": [
       "<Figure size 720x432 with 4 Axes>"
      ]
     },
     "metadata": {
      "needs_background": "light"
     },
     "output_type": "display_data"
    }
   ],
   "source": [
    "# Normalization of \"ispuff count\" data generated by threshold method to 5min timepoint, both classifiers.\n",
    "\n",
    "ispuff_NW_M = pd.DataFrame(data.loc[data['treatment'] == 'NW', :].groupby(['timepoint'])['logic_M'].sum() / \n",
    "                              data.loc[(data['treatment'] == 'NW') & (data['timepoint'] == '5min'), :]['logic'].sum()).reset_index()\n",
    "ispuff_W_M = pd.DataFrame(data.loc[data['treatment'] == 'W', :].groupby(['timepoint'])['logic_M'].sum() / \n",
    "                              data.loc[(data['treatment'] == 'W') & (data['timepoint'] == '5min'), :]['logic'].sum()).reset_index()\n",
    "\n",
    "fig, axs = plt.subplots(1,4, sharey=True)\n",
    "sns.set_palette(['grey', sns.xkcd_rgb['sky blue']])\n",
    "\n",
    "sns.barplot(data = ispuff_count_NW, \n",
    "                 x = 'timepoint', \n",
    "                 y = 'logic',\n",
    "                 ci = 95,\n",
    "                 order = ['5min', '10min'],\n",
    "                 ax = axs[0])\n",
    "axs[0].set_ylabel('% 5min Puff Events')\n",
    "axs[0].set_xticklabels(['NW@5min', 'NW@10min'])\n",
    "axs[0].set_xlabel('')\n",
    "\n",
    "sns.barplot(data = ispuff_NW_M, \n",
    "                 x = 'timepoint', \n",
    "                 y = 'logic_M',\n",
    "                 ci = 95,\n",
    "                 order = ['5min', '10min'],\n",
    "                 ax = axs[1])\n",
    "axs[1].set_ylabel('')\n",
    "axs[1].set_xticklabels(['NW_M@5min', 'NW_M@10min'])\n",
    "axs[1].set_xlabel('')\n",
    "\n",
    "sns.barplot(data = ispuff_count_W, \n",
    "                 x = 'timepoint', \n",
    "                 y = 'logic',\n",
    "                 ci = 95,\n",
    "                 order = ['5min', '10min'],\n",
    "                 ax= axs[2])\n",
    "axs[2].set_ylabel('')\n",
    "axs[2].set_xticklabels(['W@5min', 'W@10min'])\n",
    "axs[2].set_xlabel('')\n",
    "\n",
    "sns.barplot(data = ispuff_W_M, \n",
    "                 x = 'timepoint', \n",
    "                 y = 'logic_M',\n",
    "                 ci = 95,\n",
    "                 order = ['5min', '10min'],\n",
    "                 ax = axs[3])\n",
    "axs[3].set_ylabel('')\n",
    "axs[3].set_xticklabels(['W_M@5min', 'W_M@10min'])\n",
    "axs[3].set_xlabel('')\n",
    "\n",
    "fig.set_size_inches(10, 6)\n",
    "plt.tight_layout()\n",
    "plt.show()"
   ]
  },
  {
   "cell_type": "code",
   "execution_count": 14,
   "metadata": {},
   "outputs": [],
   "source": [
    "# Normalization of \"proba sum\" data to each treatment's 5min timepoint.\n",
    "\n",
    "nor_sum_probas_NW = pd.DataFrame(data.loc[data['treatment'] == 'NW', :].groupby(['timepoint'])['proba'].sum() / \n",
    "                                 data.loc[(data['treatment'] == 'NW') & (data['timepoint'] == '5min'), :]['proba'].sum()).reset_index()\n",
    "nor_sum_probas_W = pd.DataFrame(data.loc[data['treatment'] == 'W', :].groupby(['timepoint'])['proba'].sum() / \n",
    "                                data.loc[(data['treatment'] == 'W') & (data['timepoint'] == '5min'), :]['proba'].sum()).reset_index()\n",
    "nor_sum_NW_M = pd.DataFrame(data.loc[data['treatment'] == 'NW', :].groupby(['timepoint'])['proba_M'].sum() / \n",
    "                            data.loc[(data['treatment'] == 'NW') & (data['timepoint'] == '5min'), :]['proba'].sum()).reset_index()\n",
    "nor_sum_W_M = pd.DataFrame(data.loc[data['treatment'] == 'W', :].groupby(['timepoint'])['proba_M'].sum() / \n",
    "                           data.loc[(data['treatment'] == 'W') & (data['timepoint'] == '5min'), :]['proba'].sum()).reset_index()"
   ]
  },
  {
   "cell_type": "code",
   "execution_count": 15,
   "metadata": {},
   "outputs": [
    {
     "data": {
      "text/html": [
       "<div>\n",
       "<style scoped>\n",
       "    .dataframe tbody tr th:only-of-type {\n",
       "        vertical-align: middle;\n",
       "    }\n",
       "\n",
       "    .dataframe tbody tr th {\n",
       "        vertical-align: top;\n",
       "    }\n",
       "\n",
       "    .dataframe thead th {\n",
       "        text-align: right;\n",
       "    }\n",
       "</style>\n",
       "<table border=\"1\" class=\"dataframe\">\n",
       "  <thead>\n",
       "    <tr style=\"text-align: right;\">\n",
       "      <th></th>\n",
       "      <th>timepoint</th>\n",
       "      <th>cell</th>\n",
       "      <th>proba</th>\n",
       "    </tr>\n",
       "  </thead>\n",
       "  <tbody>\n",
       "    <tr>\n",
       "      <th>0</th>\n",
       "      <td>10min</td>\n",
       "      <td>Field1.4_0.1s</td>\n",
       "      <td>NaN</td>\n",
       "    </tr>\n",
       "    <tr>\n",
       "      <th>1</th>\n",
       "      <td>10min</td>\n",
       "      <td>Field10.4_0.1s</td>\n",
       "      <td>NaN</td>\n",
       "    </tr>\n",
       "    <tr>\n",
       "      <th>2</th>\n",
       "      <td>10min</td>\n",
       "      <td>Field11.4_0.1s</td>\n",
       "      <td>NaN</td>\n",
       "    </tr>\n",
       "    <tr>\n",
       "      <th>3</th>\n",
       "      <td>10min</td>\n",
       "      <td>Field12.4_0.1s</td>\n",
       "      <td>NaN</td>\n",
       "    </tr>\n",
       "    <tr>\n",
       "      <th>4</th>\n",
       "      <td>10min</td>\n",
       "      <td>Field13.4_0.1s</td>\n",
       "      <td>NaN</td>\n",
       "    </tr>\n",
       "    <tr>\n",
       "      <th>5</th>\n",
       "      <td>10min</td>\n",
       "      <td>Field14.4_0.1s</td>\n",
       "      <td>NaN</td>\n",
       "    </tr>\n",
       "    <tr>\n",
       "      <th>6</th>\n",
       "      <td>10min</td>\n",
       "      <td>Field15.4_0.1s</td>\n",
       "      <td>NaN</td>\n",
       "    </tr>\n",
       "    <tr>\n",
       "      <th>7</th>\n",
       "      <td>10min</td>\n",
       "      <td>Field2.4_0.1s</td>\n",
       "      <td>NaN</td>\n",
       "    </tr>\n",
       "    <tr>\n",
       "      <th>8</th>\n",
       "      <td>10min</td>\n",
       "      <td>Field3.4_0.1s</td>\n",
       "      <td>NaN</td>\n",
       "    </tr>\n",
       "    <tr>\n",
       "      <th>9</th>\n",
       "      <td>10min</td>\n",
       "      <td>Field4.4_0.1s</td>\n",
       "      <td>NaN</td>\n",
       "    </tr>\n",
       "    <tr>\n",
       "      <th>10</th>\n",
       "      <td>10min</td>\n",
       "      <td>Field5.4_0.1s</td>\n",
       "      <td>NaN</td>\n",
       "    </tr>\n",
       "    <tr>\n",
       "      <th>11</th>\n",
       "      <td>10min</td>\n",
       "      <td>Field6.4_0.1s</td>\n",
       "      <td>NaN</td>\n",
       "    </tr>\n",
       "    <tr>\n",
       "      <th>12</th>\n",
       "      <td>10min</td>\n",
       "      <td>Field7.4_0.1s</td>\n",
       "      <td>NaN</td>\n",
       "    </tr>\n",
       "    <tr>\n",
       "      <th>13</th>\n",
       "      <td>10min</td>\n",
       "      <td>Field8.4_0.1s</td>\n",
       "      <td>NaN</td>\n",
       "    </tr>\n",
       "    <tr>\n",
       "      <th>14</th>\n",
       "      <td>10min</td>\n",
       "      <td>Field9.4_0.1s</td>\n",
       "      <td>NaN</td>\n",
       "    </tr>\n",
       "    <tr>\n",
       "      <th>15</th>\n",
       "      <td>5min</td>\n",
       "      <td>Field1.2_0.1s</td>\n",
       "      <td>1.0</td>\n",
       "    </tr>\n",
       "    <tr>\n",
       "      <th>16</th>\n",
       "      <td>5min</td>\n",
       "      <td>Field10.2_0.1s</td>\n",
       "      <td>1.0</td>\n",
       "    </tr>\n",
       "    <tr>\n",
       "      <th>17</th>\n",
       "      <td>5min</td>\n",
       "      <td>Field11.2_0.1s</td>\n",
       "      <td>1.0</td>\n",
       "    </tr>\n",
       "    <tr>\n",
       "      <th>18</th>\n",
       "      <td>5min</td>\n",
       "      <td>Field12.2_0.1s</td>\n",
       "      <td>1.0</td>\n",
       "    </tr>\n",
       "    <tr>\n",
       "      <th>19</th>\n",
       "      <td>5min</td>\n",
       "      <td>Field13.2_0.1s</td>\n",
       "      <td>1.0</td>\n",
       "    </tr>\n",
       "    <tr>\n",
       "      <th>20</th>\n",
       "      <td>5min</td>\n",
       "      <td>Field14.2_0.1s</td>\n",
       "      <td>1.0</td>\n",
       "    </tr>\n",
       "    <tr>\n",
       "      <th>21</th>\n",
       "      <td>5min</td>\n",
       "      <td>Field15.2_0.1s</td>\n",
       "      <td>1.0</td>\n",
       "    </tr>\n",
       "    <tr>\n",
       "      <th>22</th>\n",
       "      <td>5min</td>\n",
       "      <td>Field2.2_0.1s</td>\n",
       "      <td>1.0</td>\n",
       "    </tr>\n",
       "    <tr>\n",
       "      <th>23</th>\n",
       "      <td>5min</td>\n",
       "      <td>Field3.2_0.1s</td>\n",
       "      <td>1.0</td>\n",
       "    </tr>\n",
       "    <tr>\n",
       "      <th>24</th>\n",
       "      <td>5min</td>\n",
       "      <td>Field4.2_0.1s</td>\n",
       "      <td>1.0</td>\n",
       "    </tr>\n",
       "    <tr>\n",
       "      <th>25</th>\n",
       "      <td>5min</td>\n",
       "      <td>Field5.2_0.1s</td>\n",
       "      <td>1.0</td>\n",
       "    </tr>\n",
       "    <tr>\n",
       "      <th>26</th>\n",
       "      <td>5min</td>\n",
       "      <td>Field6.2_0.1s</td>\n",
       "      <td>1.0</td>\n",
       "    </tr>\n",
       "    <tr>\n",
       "      <th>27</th>\n",
       "      <td>5min</td>\n",
       "      <td>Field7.2_0.1s</td>\n",
       "      <td>1.0</td>\n",
       "    </tr>\n",
       "    <tr>\n",
       "      <th>28</th>\n",
       "      <td>5min</td>\n",
       "      <td>Field8.2_0.1s</td>\n",
       "      <td>1.0</td>\n",
       "    </tr>\n",
       "    <tr>\n",
       "      <th>29</th>\n",
       "      <td>5min</td>\n",
       "      <td>Field9.2_0.1s</td>\n",
       "      <td>1.0</td>\n",
       "    </tr>\n",
       "  </tbody>\n",
       "</table>\n",
       "</div>"
      ],
      "text/plain": [
       "   timepoint            cell  proba\n",
       "0      10min   Field1.4_0.1s    NaN\n",
       "1      10min  Field10.4_0.1s    NaN\n",
       "2      10min  Field11.4_0.1s    NaN\n",
       "3      10min  Field12.4_0.1s    NaN\n",
       "4      10min  Field13.4_0.1s    NaN\n",
       "5      10min  Field14.4_0.1s    NaN\n",
       "6      10min  Field15.4_0.1s    NaN\n",
       "7      10min   Field2.4_0.1s    NaN\n",
       "8      10min   Field3.4_0.1s    NaN\n",
       "9      10min   Field4.4_0.1s    NaN\n",
       "10     10min   Field5.4_0.1s    NaN\n",
       "11     10min   Field6.4_0.1s    NaN\n",
       "12     10min   Field7.4_0.1s    NaN\n",
       "13     10min   Field8.4_0.1s    NaN\n",
       "14     10min   Field9.4_0.1s    NaN\n",
       "15      5min   Field1.2_0.1s    1.0\n",
       "16      5min  Field10.2_0.1s    1.0\n",
       "17      5min  Field11.2_0.1s    1.0\n",
       "18      5min  Field12.2_0.1s    1.0\n",
       "19      5min  Field13.2_0.1s    1.0\n",
       "20      5min  Field14.2_0.1s    1.0\n",
       "21      5min  Field15.2_0.1s    1.0\n",
       "22      5min   Field2.2_0.1s    1.0\n",
       "23      5min   Field3.2_0.1s    1.0\n",
       "24      5min   Field4.2_0.1s    1.0\n",
       "25      5min   Field5.2_0.1s    1.0\n",
       "26      5min   Field6.2_0.1s    1.0\n",
       "27      5min   Field7.2_0.1s    1.0\n",
       "28      5min   Field8.2_0.1s    1.0\n",
       "29      5min   Field9.2_0.1s    1.0"
      ]
     },
     "execution_count": 15,
     "metadata": {},
     "output_type": "execute_result"
    }
   ],
   "source": [
    "a = pd.DataFrame(data.loc[data['treatment'] == 'NW', :].groupby(['timepoint', 'cell'])['proba'].sum() / \n",
    "                                 data.loc[(data['treatment'] == 'NW') & (data['timepoint'] == '5min'), :].groupby(['cell'])['proba'].sum()).reset_index()\n",
    "a"
   ]
  },
  {
   "cell_type": "code",
   "execution_count": 16,
   "metadata": {},
   "outputs": [
    {
     "data": {
      "image/png": "[encoded data removed]",
      "text/plain": [
       "<Figure size 720x432 with 4 Axes>"
      ]
     },
     "metadata": {
      "needs_background": "light"
     },
     "output_type": "display_data"
    }
   ],
   "source": [
    "fig, axs = plt.subplots(1,4, sharey=True)\n",
    "sns.set_palette(['black', sns.xkcd_rgb['pale red']])\n",
    "\n",
    "sns.barplot(data = nor_sum_probas_NW, \n",
    "                 x = 'timepoint', \n",
    "                 y = 'proba',\n",
    "                 ci = 95,\n",
    "                 order = ['5min', '10min'],\n",
    "                 ax = axs[0])\n",
    "axs[0].set_ylabel('% 5min probas sum')\n",
    "axs[0].set_xticklabels(['NW@5min', 'NW@10min'])\n",
    "axs[0].set_xlabel('')\n",
    "\n",
    "sns.barplot(data = nor_sum_NW_M, \n",
    "                 x = 'timepoint', \n",
    "                 y = 'proba_M',\n",
    "                 ci = 95,\n",
    "                 order = ['5min', '10min'],\n",
    "                 ax= axs[1])\n",
    "axs[1].set_ylabel('')\n",
    "axs[1].set_xticklabels(['NW_M@5min', 'NW_M@10min'])\n",
    "axs[1].set_xlabel('')\n",
    "\n",
    "sns.barplot(data = nor_sum_probas_W, \n",
    "                 x = 'timepoint', \n",
    "                 y = 'proba',\n",
    "                 ci = 95,\n",
    "                 order = ['5min', '10min'],\n",
    "                 ax = axs[2])\n",
    "axs[2].set_ylabel('')\n",
    "axs[2].set_xticklabels(['W@5min', 'W@10min'])\n",
    "axs[2].set_xlabel('')\n",
    "\n",
    "sns.barplot(data = nor_sum_W_M, \n",
    "                 x = 'timepoint', \n",
    "                 y = 'proba_M',\n",
    "                 ci = 95,\n",
    "                 order = ['5min', '10min'],\n",
    "                 ax= axs[3])\n",
    "axs[3].set_ylabel('')\n",
    "axs[3].set_xticklabels(['W_M@5min', 'W_M@10min'])\n",
    "axs[3].set_xlabel('')\n",
    "\n",
    "fig.set_size_inches(10, 6)\n",
    "plt.tight_layout()\n",
    "plt.show()"
   ]
  },
  {
   "cell_type": "code",
   "execution_count": 18,
   "metadata": {},
   "outputs": [],
   "source": [
    "# Normalization of \"proba sum\" data to each treatment's 5min timepoint generated from Prism\n",
    "\n",
    "pan_classifier = data.groupby(['treatment', 'timepoint', 'cell'])['proba'].sum()\n",
    "specific_classifier = data.groupby(['treatment', 'timepoint', 'cell'])['proba_M'].sum()\n",
    "\n",
    "pd.concat([pan_classifier, specific_classifier]).to_csv('proba_sum.csv')"
   ]
  },
  {
   "cell_type": "code",
   "execution_count": 19,
   "metadata": {},
   "outputs": [
    {
     "data": {
      "image/png": "[encoded data removed]",
      "text/plain": [
       "<Figure size 432x288 with 1 Axes>"
      ]
     },
     "metadata": {
      "needs_background": "light"
     },
     "output_type": "display_data"
    }
   ],
   "source": [
    "img = plt.imread('/Users/chenhao/Downloads/puffsAnalysis-master/My_own_data/probas_sum_data.png')\n",
    "plt.imshow(img, aspect='auto')\n",
    "plt.show()"
   ]
  },
  {
   "cell_type": "code",
   "execution_count": 58,
   "metadata": {},
   "outputs": [],
   "source": [
    "# Comparsion of calibrated predictions with initial predictions\n",
    "\n",
    "ispuff_toM_NW = pd.DataFrame(data.loc[data['treatment'] == 'NW', :].groupby(['timepoint'])['logic_M'].sum() / \n",
    "                              data.loc[(data['treatment'] == 'NW') & (data['timepoint'] == '5min'), :]['logic_M'].sum()).reset_index()\n",
    "ispuff_toM_W = pd.DataFrame(data.loc[data['treatment'] == 'W', :].groupby(['timepoint'])['logic_M'].sum() / \n",
    "                              data.loc[(data['treatment'] == 'W') & (data['timepoint'] == '5min'), :]['logic_M'].sum()).reset_index()\n",
    "sum_norto_M_NW = pd.DataFrame(data.loc[data['treatment'] == 'NW', :].groupby(['timepoint'])['proba_M'].sum() / \n",
    "                            data.loc[(data['treatment'] == 'NW') & (data['timepoint'] == '5min'), :]['proba_M'].sum()).reset_index()\n",
    "sum_norto_M_W = pd.DataFrame(data.loc[data['treatment'] == 'W', :].groupby(['timepoint'])['proba_M'].sum() / \n",
    "                           data.loc[(data['treatment'] == 'W') & (data['timepoint'] == '5min'), :]['proba_M'].sum()).reset_index()\n",
    "\n",
    "a = pd.DataFrame(data.loc[data['treatment'] == 'NW', :].groupby(['timepoint'])['logic_calibrated'].sum() / \n",
    "                              data.loc[(data['treatment'] == 'NW') & (data['timepoint'] == '5min'), :]['logic_M'].sum()).reset_index()\n",
    "b = pd.DataFrame(data.loc[data['treatment'] == 'W', :].groupby(['timepoint'])['logic_calibrated'].sum() / \n",
    "                              data.loc[(data['treatment'] == 'W') & (data['timepoint'] == '5min'), :]['logic_M'].sum()).reset_index()\n",
    "c = pd.DataFrame(data.loc[data['treatment'] == 'NW', :].groupby(['timepoint'])['calibrated_M'].sum() / \n",
    "                            data.loc[(data['treatment'] == 'NW') & (data['timepoint'] == '5min'), :]['proba_M'].sum()).reset_index()\n",
    "d = pd.DataFrame(data.loc[data['treatment'] == 'W', :].groupby(['timepoint'])['calibrated_M'].sum() / \n",
    "                           data.loc[(data['treatment'] == 'W') & (data['timepoint'] == '5min'), :]['proba_M'].sum()).reset_index()\n",
    "\n",
    "ispuff_NW_calibrated = pd.DataFrame(data.loc[data['treatment'] == 'NW', :].groupby(['timepoint'])['logic_calibrated'].sum() / \n",
    "                              data.loc[(data['treatment'] == 'NW') & (data['timepoint'] == '5min'), :]['logic'].sum()).reset_index()\n",
    "ispuff_W_calibrated = pd.DataFrame(data.loc[data['treatment'] == 'W', :].groupby(['timepoint'])['logic_calibrated'].sum() / \n",
    "                              data.loc[(data['treatment'] == 'W') & (data['timepoint'] == '5min'), :]['logic'].sum()).reset_index()\n",
    "calibrated_sum_NW = pd.DataFrame(data.loc[data['treatment'] == 'NW', :].groupby(['timepoint'])['calibrated_M'].sum() / \n",
    "                            data.loc[(data['treatment'] == 'NW') & (data['timepoint'] == '5min'), :]['proba'].sum()).reset_index()\n",
    "calibrated_sum_W = pd.DataFrame(data.loc[data['treatment'] == 'W', :].groupby(['timepoint'])['calibrated_M'].sum() / \n",
    "                           data.loc[(data['treatment'] == 'W') & (data['timepoint'] == '5min'), :]['proba'].sum()).reset_index()"
   ]
  },
  {
   "cell_type": "code",
   "execution_count": 55,
   "metadata": {},
   "outputs": [
    {
     "data": {
      "image/png": "[encoded data removed]",
      "text/plain": [
       "<Figure size 720x432 with 4 Axes>"
      ]
     },
     "metadata": {
      "needs_background": "light"
     },
     "output_type": "display_data"
    }
   ],
   "source": [
    "fig, axs = plt.subplots(1,4, sharey=True)\n",
    "sns.set_palette(['grey', sns.xkcd_rgb['sky blue']])\n",
    "\n",
    "sns.barplot(data = ispuff_count_NW, \n",
    "                 x = 'timepoint', \n",
    "                 y = 'logic',\n",
    "                 ci = 95,\n",
    "                 order = ['5min', '10min'],\n",
    "                 ax = axs[0])\n",
    "axs[0].set_ylabel('% 5min Puff Events')\n",
    "axs[0].set_xticklabels(['NW@5', 'NW@10'])\n",
    "axs[0].set_xlabel('')\n",
    "\n",
    "sns.barplot(data = ispuff_NW_calibrated, \n",
    "                 x = 'timepoint', \n",
    "                 y = 'logic_calibrated',\n",
    "                 ci = 95,\n",
    "                 order = ['5min', '10min'],\n",
    "                 ax = axs[1])\n",
    "axs[1].set_ylabel('')\n",
    "axs[1].set_xticklabels(['NW_Cal@5', 'NW_Cal@10'])\n",
    "axs[1].set_xlabel('')\n",
    "\n",
    "sns.barplot(data = ispuff_count_W, \n",
    "                 x = 'timepoint', \n",
    "                 y = 'logic',\n",
    "                 ci = 95,\n",
    "                 order = ['5min', '10min'],\n",
    "                 ax= axs[2])\n",
    "axs[2].set_ylabel('')\n",
    "axs[2].set_xticklabels(['W@5', 'W@10'])\n",
    "axs[2].set_xlabel('')\n",
    "\n",
    "sns.barplot(data = ispuff_W_calibrated, \n",
    "                 x = 'timepoint', \n",
    "                 y = 'logic_calibrated',\n",
    "                 ci = 95,\n",
    "                 order = ['5min', '10min'],\n",
    "                 ax = axs[3])\n",
    "axs[3].set_ylabel('')\n",
    "axs[3].set_xticklabels(['W_Cal@5', 'W_Cal@10'])\n",
    "axs[3].set_xlabel('')\n",
    "\n",
    "fig.set_size_inches(10, 6)\n",
    "plt.tight_layout()\n",
    "plt.show()"
   ]
  },
  {
   "cell_type": "code",
   "execution_count": 57,
   "metadata": {},
   "outputs": [
    {
     "data": {
      "image/png": "[encoded data removed]",
      "text/plain": [
       "<Figure size 720x432 with 4 Axes>"
      ]
     },
     "metadata": {
      "needs_background": "light"
     },
     "output_type": "display_data"
    }
   ],
   "source": [
    "fig, axs = plt.subplots(1,4, sharey=True)\n",
    "sns.set_palette(['black', sns.xkcd_rgb['pale red']])\n",
    "\n",
    "sns.barplot(data = nor_sum_probas_NW, \n",
    "                 x = 'timepoint', \n",
    "                 y = 'proba',\n",
    "                 ci = 95,\n",
    "                 order = ['5min', '10min'],\n",
    "                 ax = axs[0])\n",
    "axs[0].set_ylabel('% 5min probas sum')\n",
    "axs[0].set_xticklabels(['NW@5', 'NW@10'])\n",
    "axs[0].set_xlabel('')\n",
    "\n",
    "sns.barplot(data = calibrated_sum_NW, \n",
    "                 x = 'timepoint', \n",
    "                 y = 'calibrated_M',\n",
    "                 ci = 95,\n",
    "                 order = ['5min', '10min'],\n",
    "                 ax= axs[1])\n",
    "axs[1].set_ylabel('')\n",
    "axs[1].set_xticklabels(['NW_Cal@5', 'NW_Cal@10'])\n",
    "axs[1].set_xlabel('')\n",
    "\n",
    "sns.barplot(data = nor_sum_probas_W, \n",
    "                 x = 'timepoint', \n",
    "                 y = 'proba',\n",
    "                 ci = 95,\n",
    "                 order = ['5min', '10min'],\n",
    "                 ax = axs[2])\n",
    "axs[2].set_ylabel('')\n",
    "axs[2].set_xticklabels(['W@5', 'W@10'])\n",
    "axs[2].set_xlabel('')\n",
    "\n",
    "sns.barplot(data = calibrated_sum_W, \n",
    "                 x = 'timepoint', \n",
    "                 y = 'calibrated_M',\n",
    "                 ci = 95,\n",
    "                 order = ['5min', '10min'],\n",
    "                 ax= axs[3])\n",
    "axs[3].set_ylabel('')\n",
    "axs[3].set_xticklabels(['W_Cal@5', 'W_Cal@10'])\n",
    "axs[3].set_xlabel('')\n",
    "\n",
    "fig.set_size_inches(10, 6)\n",
    "plt.tight_layout()\n",
    "plt.show()"
   ]
  },
  {
   "cell_type": "code",
   "execution_count": 59,
   "metadata": {},
   "outputs": [
    {
     "data": {
      "image/png": "[encoded data removed]",
      "text/plain": [
       "<Figure size 720x432 with 4 Axes>"
      ]
     },
     "metadata": {
      "needs_background": "light"
     },
     "output_type": "display_data"
    }
   ],
   "source": [
    "fig, axs = plt.subplots(1,4, sharey=True)\n",
    "sns.set_palette(['grey', sns.xkcd_rgb['sky blue']])\n",
    "\n",
    "sns.barplot(data = ispuff_toM_NW, \n",
    "                 x = 'timepoint', \n",
    "                 y = 'logic_M',\n",
    "                 ci = 95,\n",
    "                 order = ['5min', '10min'],\n",
    "                 ax = axs[0])\n",
    "axs[0].set_ylabel('% 5min Puff Events')\n",
    "axs[0].set_xticklabels(['NW_M@5', 'NW_M@10'])\n",
    "axs[0].set_xlabel('')\n",
    "\n",
    "sns.barplot(data = a, \n",
    "                 x = 'timepoint', \n",
    "                 y = 'logic_calibrated',\n",
    "                 ci = 95,\n",
    "                 order = ['5min', '10min'],\n",
    "                 ax = axs[1])\n",
    "axs[1].set_ylabel('')\n",
    "axs[1].set_xticklabels(['NW_Cal@5', 'NW_Cal@10'])\n",
    "axs[1].set_xlabel('')\n",
    "\n",
    "sns.barplot(data = ispuff_toM_W, \n",
    "                 x = 'timepoint', \n",
    "                 y = 'logic_M',\n",
    "                 ci = 95,\n",
    "                 order = ['5min', '10min'],\n",
    "                 ax= axs[2])\n",
    "axs[2].set_ylabel('')\n",
    "axs[2].set_xticklabels(['W_M@5', 'W_M@10'])\n",
    "axs[2].set_xlabel('')\n",
    "\n",
    "sns.barplot(data = b, \n",
    "                 x = 'timepoint', \n",
    "                 y = 'logic_calibrated',\n",
    "                 ci = 95,\n",
    "                 order = ['5min', '10min'],\n",
    "                 ax = axs[3])\n",
    "axs[3].set_ylabel('')\n",
    "axs[3].set_xticklabels(['W_Cal@5', 'W_Cal@10'])\n",
    "axs[3].set_xlabel('')\n",
    "\n",
    "fig.set_size_inches(10, 6)\n",
    "plt.tight_layout()\n",
    "plt.show()"
   ]
  },
  {
   "cell_type": "code",
   "execution_count": 60,
   "metadata": {},
   "outputs": [
    {
     "data": {
      "image/png": "[encoded data removed]",
      "text/plain": [
       "<Figure size 720x432 with 4 Axes>"
      ]
     },
     "metadata": {
      "needs_background": "light"
     },
     "output_type": "display_data"
    }
   ],
   "source": [
    "fig, axs = plt.subplots(1,4, sharey=True)\n",
    "sns.set_palette(['black', sns.xkcd_rgb['pale red']])\n",
    "\n",
    "sns.barplot(data = sum_norto_M_NW, \n",
    "                 x = 'timepoint', \n",
    "                 y = 'proba_M',\n",
    "                 ci = 95,\n",
    "                 order = ['5min', '10min'],\n",
    "                 ax = axs[0])\n",
    "axs[0].set_ylabel('% 5min probas sum')\n",
    "axs[0].set_xticklabels(['NW_M@5', 'NW_M@10'])\n",
    "axs[0].set_xlabel('')\n",
    "\n",
    "sns.barplot(data = c, \n",
    "                 x = 'timepoint', \n",
    "                 y = 'calibrated_M',\n",
    "                 ci = 95,\n",
    "                 order = ['5min', '10min'],\n",
    "                 ax= axs[1])\n",
    "axs[1].set_ylabel('')\n",
    "axs[1].set_xticklabels(['NW_Cal@5', 'NW_Cal@10'])\n",
    "axs[1].set_xlabel('')\n",
    "\n",
    "sns.barplot(data = sum_norto_M_W, \n",
    "                 x = 'timepoint', \n",
    "                 y = 'proba_M',\n",
    "                 ci = 95,\n",
    "                 order = ['5min', '10min'],\n",
    "                 ax = axs[2])\n",
    "axs[2].set_ylabel('')\n",
    "axs[2].set_xticklabels(['W_M@5', 'W_M@10'])\n",
    "axs[2].set_xlabel('')\n",
    "\n",
    "sns.barplot(data = d, \n",
    "                 x = 'timepoint', \n",
    "                 y = 'calibrated_M',\n",
    "                 ci = 95,\n",
    "                 order = ['5min', '10min'],\n",
    "                 ax= axs[3])\n",
    "axs[3].set_ylabel('')\n",
    "axs[3].set_xticklabels(['W_Cal@5', 'W_Cal@10'])\n",
    "axs[3].set_xlabel('')\n",
    "\n",
    "fig.set_size_inches(10, 6)\n",
    "plt.tight_layout()\n",
    "plt.show()"
   ]
  },
  {
   "cell_type": "code",
   "execution_count": null,
   "metadata": {},
   "outputs": [],
   "source": []
  }
 ],
 "metadata": {
  "kernelspec": {
   "display_name": "Python 3",
   "language": "python",
   "name": "python3"
  },
  "language_info": {
   "codemirror_mode": {
    "name": "ipython",
    "version": 3
   },
   "file_extension": ".py",
   "mimetype": "text/x-python",
   "name": "python",
   "nbconvert_exporter": "python",
   "pygments_lexer": "ipython3",
   "version": "3.7.0"
  }
 },
 "nbformat": 4,
 "nbformat_minor": 2
}
